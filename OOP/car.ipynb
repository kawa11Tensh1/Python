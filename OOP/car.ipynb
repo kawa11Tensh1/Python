{
 "cells": [
  {
   "cell_type": "code",
   "execution_count": 104,
   "id": "2afccc0c",
   "metadata": {},
   "outputs": [],
   "source": [
    "class Car():\n",
    "    def __init__(self, name, model, year, fuel_capacity):\n",
    "        self.name = name \n",
    "        self.model = model\n",
    "        self.year = year\n",
    "        self.fuel_capacity = fuel_capacity\n",
    "        self.fuel_level = 0\n",
    "        \n",
    "    def fill_car(self):\n",
    "        self.fuel_level = self.fuel_capacity\n",
    "        print('fuel of %s is full now' %self.name)\n",
    "        \n",
    "    def drive(self):\n",
    "        if self.fuel_level > 0:\n",
    "            print('wr wr, the %s is moving' %self.name)\n",
    "            self.fuel_level -= 1\n",
    "        else:\n",
    "            print('%s fuel is empty, please fill your car' %self.name)"
   ]
  },
  {
   "cell_type": "code",
   "execution_count": 113,
   "id": "6f8f348a",
   "metadata": {},
   "outputs": [],
   "source": [
    "car1 = Car('audi', 'a4', 2016, 50)"
   ]
  },
  {
   "cell_type": "code",
   "execution_count": 114,
   "id": "22ee13a9",
   "metadata": {},
   "outputs": [
    {
     "name": "stdout",
     "output_type": "stream",
     "text": [
      "audi fuel is empty, please fill your car\n"
     ]
    }
   ],
   "source": [
    "car1.drive()"
   ]
  },
  {
   "cell_type": "code",
   "execution_count": 115,
   "id": "2babcb49",
   "metadata": {},
   "outputs": [
    {
     "name": "stdout",
     "output_type": "stream",
     "text": [
      "fuel of audi is full now\n"
     ]
    }
   ],
   "source": [
    "car1.fill_car()"
   ]
  },
  {
   "cell_type": "code",
   "execution_count": 116,
   "id": "4ed43c3c",
   "metadata": {},
   "outputs": [
    {
     "data": {
      "text/plain": [
       "50"
      ]
     },
     "execution_count": 116,
     "metadata": {},
     "output_type": "execute_result"
    }
   ],
   "source": [
    "car1.fuel_level"
   ]
  },
  {
   "cell_type": "code",
   "execution_count": 117,
   "id": "0537b0f5",
   "metadata": {},
   "outputs": [
    {
     "name": "stdout",
     "output_type": "stream",
     "text": [
      "wr wr, the audi is moving\n"
     ]
    }
   ],
   "source": [
    "car1.drive()"
   ]
  },
  {
   "cell_type": "code",
   "execution_count": 118,
   "id": "caf04ef4",
   "metadata": {},
   "outputs": [
    {
     "data": {
      "text/plain": [
       "49"
      ]
     },
     "execution_count": 118,
     "metadata": {},
     "output_type": "execute_result"
    }
   ],
   "source": [
    "car1.fuel_level"
   ]
  },
  {
   "cell_type": "code",
   "execution_count": 119,
   "id": "6e48d70f",
   "metadata": {},
   "outputs": [],
   "source": [
    "car1 = Car('toyta', 'mark', 2011, 50)"
   ]
  },
  {
   "cell_type": "code",
   "execution_count": 120,
   "id": "5c5a639b",
   "metadata": {},
   "outputs": [
    {
     "name": "stdout",
     "output_type": "stream",
     "text": [
      "toyta fuel is empty, please fill your car\n"
     ]
    }
   ],
   "source": [
    "car1.drive()"
   ]
  },
  {
   "cell_type": "code",
   "execution_count": 121,
   "id": "24a6dba4",
   "metadata": {},
   "outputs": [
    {
     "data": {
      "text/plain": [
       "0"
      ]
     },
     "execution_count": 121,
     "metadata": {},
     "output_type": "execute_result"
    }
   ],
   "source": [
    "car1.fuel_level"
   ]
  }
 ],
 "metadata": {
  "kernelspec": {
   "display_name": "Python 3 (ipykernel)",
   "language": "python",
   "name": "python3"
  },
  "language_info": {
   "codemirror_mode": {
    "name": "ipython",
    "version": 3
   },
   "file_extension": ".py",
   "mimetype": "text/x-python",
   "name": "python",
   "nbconvert_exporter": "python",
   "pygments_lexer": "ipython3",
   "version": "3.8.8"
  }
 },
 "nbformat": 4,
 "nbformat_minor": 5
}
