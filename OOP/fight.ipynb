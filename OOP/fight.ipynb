{
 "cells": [
  {
   "cell_type": "code",
   "execution_count": 20,
   "id": "a501bf3f",
   "metadata": {},
   "outputs": [],
   "source": [
    "class Knight(): # Класс Рыцарь\n",
    "    # Конструктор с параметрами: имя, репутация, здоровье, сила и броня\n",
    "    def __init__(self, name, reputation, health, force, armor):\n",
    "        assert reputation >= 0, f'репутация {freputation} меньше или равна нулю'\n",
    "        assert health >= 0, f'здоровье {health} меньше или равно нулю'\n",
    "        assert force >= 0, f'сила {force} меньше или равна нулю'\n",
    "        assert armor >= 0, f'броня {armor} меньше или равна нулю'\n",
    "        \n",
    "        self.name = name\n",
    "        self.reputation = reputation\n",
    "        self.health = health\n",
    "        self.force = force\n",
    "        self.armor = armor\n",
    "        self.total_arrows = 1\n",
    "    \n",
    "    # Боевой клич\n",
    "    def battle_cry(self):\n",
    "        self.reputation += 1\n",
    "        print('Рыцарь %s издает боевой клич: УРА!' %self.name)\n",
    "        \n",
    "    # Атака мечом\n",
    "    def sword_attack(self):\n",
    "        self.force += 1\n",
    "        print('Рыцарь %s атакует мечом!' %self.name)\n",
    "         \n",
    "    # Блок щитом\n",
    "    def shield_block(self):\n",
    "        self.armor -= 1\n",
    "        print('Рыцарь %s блокирует атаку щитом!' %self.name)\n",
    "        \n",
    "    # Стрельба из лука\n",
    "    def archery(self):\n",
    "        if self.total_arrows > 0:\n",
    "            self.total_arrows -= 1\n",
    "            print('Рыцарь %s стреляет из лука!' %self.name)\n",
    "        else:\n",
    "            self.health -= 1\n",
    "            print('Рыцарь %s получает стрелу из лука!' %self.name)\n",
    "            \n",
    "    # Вывод параметров рыцаря перед битвой\n",
    "    def show(self):\n",
    "        print('Репутация = %d' %self.reputation)\n",
    "        print('Здоровье = %d' %self.health)\n",
    "        print('Сила = %d' %self.force)\n",
    "        print('Броня = %d' %self.armor)   \n",
    "\n",
    "class switch(object):\n",
    "    def __init__(self, value):\n",
    "        self.value = value # значение, которое будем искать\n",
    "        self.fall = False # для пустых case блоков\n",
    "\n",
    "    def __iter__(self): # для использования в цикле for\n",
    "        ''' Возвращает один раз метод match и завершается '''\n",
    "        yield self.match\n",
    "        raise StopIteration\n",
    "\n",
    "    def match(self, *args):\n",
    "        ''' Указывает, нужно ли заходить в тестовый вариант '''\n",
    "        if self.fall or not args:\n",
    "            # пустой список аргументов означает последний блок case\n",
    "            # fall означает, что ранее сработало условие и нужно заходить \n",
    "            # в каждый case до первого break\n",
    "            return True\n",
    "        elif self.value in args:\n",
    "            self.fall = True\n",
    "            return True\n",
    "        return False"
   ]
  },
  {
   "cell_type": "code",
   "execution_count": 21,
   "id": "69075ece",
   "metadata": {},
   "outputs": [],
   "source": [
    "knight1 = Knight('Ланселот', 56, 98, 78, 44)"
   ]
  },
  {
   "cell_type": "code",
   "execution_count": 22,
   "id": "fb43ffed",
   "metadata": {},
   "outputs": [
    {
     "name": "stdout",
     "output_type": "stream",
     "text": [
      "Рыцарь успешно создан. Его параметры:\n",
      "Репутация = 56\n",
      "Здоровье = 98\n",
      "Сила = 78\n",
      "Броня = 44\n"
     ]
    }
   ],
   "source": [
    "print('Рыцарь успешно создан. Его параметры:')\n",
    "knight1.show()"
   ]
  },
  {
   "cell_type": "code",
   "execution_count": 23,
   "id": "5871b66c",
   "metadata": {},
   "outputs": [
    {
     "name": "stdout",
     "output_type": "stream",
     "text": [
      "ДА БУДЕТ БИТВА!\n",
      "Удар соперника -> Рыцарь Ланселот блокирует атаку щитом!\n",
      "Движение врага в сторону -> Рыцарь Ланселот атакует мечом!\n",
      "Враг вдалеке -> Рыцарь Ланселот стреляет из лука!\n",
      "Движение врага вперёд -> Рыцарь Ланселот атакует мечом!\n",
      "Победа над врагом -> Рыцарь Ланселот издает боевой клич: УРА!\n"
     ]
    }
   ],
   "source": [
    "x = str(input())\n",
    "\n",
    "for case in switch(x):\n",
    "    if case():\n",
    "        print('Удар соперника', end=' -> ')\n",
    "        knight1.shield_block()\n",
    "    if case():\n",
    "        print('Движение врага в сторону', end=' -> ')\n",
    "        knight1.sword_attack()\n",
    "    if case():\n",
    "        print('Враг вдалеке', end=' -> ')\n",
    "        knight1.archery()\n",
    "    if case():\n",
    "        print('Движение врага вперёд', end=' -> ')\n",
    "        knight1.sword_attack()\n",
    "    if case():\n",
    "        print('Победа над врагом', end=' -> ')\n",
    "        knight1.battle_cry()\n",
    "        break"
   ]
  },
  {
   "cell_type": "code",
   "execution_count": 24,
   "id": "fac2a13f",
   "metadata": {},
   "outputs": [
    {
     "name": "stdout",
     "output_type": "stream",
     "text": [
      "Рыцарь выиграл битву. Его параметры:\n",
      "Репутация = 57\n",
      "Здоровье = 98\n",
      "Сила = 80\n",
      "Броня = 43\n"
     ]
    }
   ],
   "source": [
    "print('Рыцарь выиграл битву. Его параметры:')\n",
    "knight1.show()"
   ]
  }
 ],
 "metadata": {
  "kernelspec": {
   "display_name": "Python 3 (ipykernel)",
   "language": "python",
   "name": "python3"
  },
  "language_info": {
   "codemirror_mode": {
    "name": "ipython",
    "version": 3
   },
   "file_extension": ".py",
   "mimetype": "text/x-python",
   "name": "python",
   "nbconvert_exporter": "python",
   "pygments_lexer": "ipython3",
   "version": "3.8.8"
  }
 },
 "nbformat": 4,
 "nbformat_minor": 5
}
