{
 "cells": [
  {
   "cell_type": "code",
   "execution_count": 20,
   "id": "758b8a06",
   "metadata": {},
   "outputs": [
    {
     "name": "stdout",
     "output_type": "stream",
     "text": [
      "<class 'str'>\n",
      "<class 'int'>\n",
      "<class 'int'>\n",
      "<class 'int'>\n"
     ]
    }
   ],
   "source": [
    "item1 = 'Phone'\n",
    "item1_price = 100\n",
    "item1_quantity = 5\n",
    "item1_price_total = item1_price * item1_quantity\n",
    "\n",
    "print(type(item1))\n",
    "print(type(item1_price))\n",
    "print(type(item1_quantity))\n",
    "print(type(item1_price_total))"
   ]
  },
  {
   "cell_type": "markdown",
   "id": "fc6eac8d",
   "metadata": {},
   "source": [
    "Классом в python можно считать некую структуру, по которой конструируются его экземпляры. Суть(смысл) ООП - создать в программе свой класс(тип данных), который бы являлся категоризацией некоего абстрактного множества объектов, характеристик и наборов операций для некоторой сущности. Метод класса - то же самое, что и функция, только созданная внутри класса. При каждом вызове метода класса или объекта, python в качестве первого аргумента передаёт текущий объект этого класса."
   ]
  },
  {
   "cell_type": "code",
   "execution_count": 21,
   "id": "e823ca1f",
   "metadata": {},
   "outputs": [
    {
     "name": "stdout",
     "output_type": "stream",
     "text": [
      "<class '__main__.Item'>\n"
     ]
    }
   ],
   "source": [
    "class Item: # Имя класса принято нахывать с заглавной буквы, имя класса должно отражать некоторую сущность. PEP8\n",
    "    pass\n",
    "\n",
    "item1 = Item()\n",
    "\n",
    "print(type(item1))"
   ]
  },
  {
   "cell_type": "code",
   "execution_count": 22,
   "id": "f255a1c7",
   "metadata": {},
   "outputs": [
    {
     "name": "stdout",
     "output_type": "stream",
     "text": [
      "Phone\n",
      "100\n",
      "5\n"
     ]
    }
   ],
   "source": [
    "class Item: # Имя класса принято нахывать с заглавной буквы, имя класса должно отражать некоторую сущность. PEP8\n",
    "    pass\n",
    "\n",
    "item1 = Item()\n",
    "item1.name = 'Phone'\n",
    "item1.price = 100\n",
    "item1.quantity = 5\n",
    "\n",
    "print(item1.name)\n",
    "print(item1.price)\n",
    "print(item1.quantity)"
   ]
  },
  {
   "cell_type": "code",
   "execution_count": 74,
   "id": "b0d16466",
   "metadata": {},
   "outputs": [
    {
     "name": "stdout",
     "output_type": "stream",
     "text": [
      "I AM CREATED: Phone\n",
      "Phone\n",
      "500\n",
      "5\n"
     ]
    }
   ],
   "source": [
    "class Item: # Класс\n",
    "    def __init__(self, name, price, quantity): # Конструктор объекта класса\n",
    "        self.name = name\n",
    "        self.price = price\n",
    "        self.quantity = quantity\n",
    "        print(f'I AM CREATED: {self.name}')\n",
    "\n",
    "item1 = Item('Phone', 500, 5)\n",
    "\n",
    "print(item1.name)\n",
    "print(item1.price)\n",
    "print(item1.quantity)"
   ]
  },
  {
   "cell_type": "code",
   "execution_count": 75,
   "id": "9e9f36cd",
   "metadata": {},
   "outputs": [
    {
     "name": "stdout",
     "output_type": "stream",
     "text": [
      "I AM CREATED: Phone\n",
      "Phone\n",
      "500\n",
      "5\n"
     ]
    }
   ],
   "source": [
    "class Item: # Класс\n",
    "    def __init__(self, name, price, quantity): # Конструктор объекта класса\n",
    "        self.name = name\n",
    "        self.price = price\n",
    "        self.quantity = quantity\n",
    "        print('I AM CREATED: %s' %self.name)\n",
    "\n",
    "item1 = Item('Phone', 500, 5)\n",
    "\n",
    "print(item1.name)\n",
    "print(item1.price)\n",
    "print(item1.quantity)"
   ]
  },
  {
   "cell_type": "code",
   "execution_count": 76,
   "id": "e5beac5f",
   "metadata": {},
   "outputs": [
    {
     "name": "stdout",
     "output_type": "stream",
     "text": [
      "I AM CREATED: Phone\n",
      "My price is 500\n",
      "I AM CREATED: Laptop\n",
      "My price is 1000\n"
     ]
    }
   ],
   "source": [
    "class Item: # Класс\n",
    "    def __init__(self, name, price, quantity): # Конструктор объекта класса\n",
    "        self.name = name\n",
    "        self.price = price\n",
    "        self.quantity = quantity\n",
    "        print(f'I AM CREATED: {self.name}')\n",
    "        print('My price is %d' %self.price)\n",
    "\n",
    "item1 = Item('Phone', 500, 5)\n",
    "item2 = Item('Laptop', 1000, 3)"
   ]
  },
  {
   "cell_type": "code",
   "execution_count": 77,
   "id": "aedda996",
   "metadata": {},
   "outputs": [
    {
     "name": "stdout",
     "output_type": "stream",
     "text": [
      "2500\n"
     ]
    }
   ],
   "source": [
    "class Item: # Класс\n",
    "    def __init__(self, name, price, quantity): # Конструктор объекта класса\n",
    "        self.name = name\n",
    "        self.price = price\n",
    "        self.quantity = quantity\n",
    "        \n",
    "    def calculate_total_price(self, price, quantity):\n",
    "        return price * quantity\n",
    "    \n",
    "item1 = Item('Phone', 500, 5)\n",
    "\n",
    "print(item1.calculate_total_price(item1.price, item1.quantity))"
   ]
  },
  {
   "cell_type": "code",
   "execution_count": 78,
   "id": "5573765a",
   "metadata": {},
   "outputs": [
    {
     "name": "stdout",
     "output_type": "stream",
     "text": [
      "2500\n"
     ]
    }
   ],
   "source": [
    "class Item: # Класс\n",
    "    def __init__(self, name, price, quantity): # Конструктор объекта класса\n",
    "        self.name = name\n",
    "        self.price = price\n",
    "        self.quantity = quantity\n",
    "        \n",
    "    def calculate_total_price(self):\n",
    "        return self.price * self.quantity\n",
    "    \n",
    "item1 = Item('Phone', 500, 5)\n",
    "\n",
    "print(item1.calculate_total_price())"
   ]
  },
  {
   "cell_type": "code",
   "execution_count": 85,
   "id": "6646979f",
   "metadata": {},
   "outputs": [
    {
     "name": "stdout",
     "output_type": "stream",
     "text": [
      "False\n"
     ]
    }
   ],
   "source": [
    "class Item: # Класс\n",
    "    def __init__(self, name, price, quantity): # Конструктор объекта класса\n",
    "        self.name = name\n",
    "        self.price = price\n",
    "        self.quantity = quantity\n",
    "        \n",
    "    def calculate_total_price(self):\n",
    "        return self.price * self.quantity\n",
    "    \n",
    "item2 = Item('Laptop', 1000, 3)\n",
    "\n",
    "item2.numpad = False\n",
    "\n",
    "print(item2.numpad)"
   ]
  },
  {
   "cell_type": "code",
   "execution_count": 86,
   "id": "e7d8e50f",
   "metadata": {},
   "outputs": [
    {
     "ename": "TypeError",
     "evalue": "__init__() missing 1 required positional argument: 'quantity'",
     "output_type": "error",
     "traceback": [
      "\u001b[1;31m---------------------------------------------------------------------------\u001b[0m",
      "\u001b[1;31mTypeError\u001b[0m                                 Traceback (most recent call last)",
      "\u001b[1;32m~\\AppData\\Local\\Temp/ipykernel_11328/238351107.py\u001b[0m in \u001b[0;36m<module>\u001b[1;34m\u001b[0m\n\u001b[0;32m      8\u001b[0m         \u001b[1;32mreturn\u001b[0m \u001b[0mself\u001b[0m\u001b[1;33m.\u001b[0m\u001b[0mprice\u001b[0m \u001b[1;33m*\u001b[0m \u001b[0mself\u001b[0m\u001b[1;33m.\u001b[0m\u001b[0mquantity\u001b[0m\u001b[1;33m\u001b[0m\u001b[1;33m\u001b[0m\u001b[0m\n\u001b[0;32m      9\u001b[0m \u001b[1;33m\u001b[0m\u001b[0m\n\u001b[1;32m---> 10\u001b[1;33m \u001b[0mitem3\u001b[0m \u001b[1;33m=\u001b[0m \u001b[0mItem\u001b[0m\u001b[1;33m(\u001b[0m\u001b[1;34m'Headphones'\u001b[0m\u001b[1;33m,\u001b[0m \u001b[1;36m150\u001b[0m\u001b[1;33m)\u001b[0m\u001b[1;33m\u001b[0m\u001b[1;33m\u001b[0m\u001b[0m\n\u001b[0m\u001b[0;32m     11\u001b[0m \u001b[1;33m\u001b[0m\u001b[0m\n\u001b[0;32m     12\u001b[0m \u001b[0mprint\u001b[0m\u001b[1;33m(\u001b[0m\u001b[0mitem3\u001b[0m\u001b[1;33m.\u001b[0m\u001b[0mquantity\u001b[0m\u001b[1;33m)\u001b[0m\u001b[1;33m\u001b[0m\u001b[1;33m\u001b[0m\u001b[0m\n",
      "\u001b[1;31mTypeError\u001b[0m: __init__() missing 1 required positional argument: 'quantity'"
     ]
    }
   ],
   "source": [
    "class Item: # Класс\n",
    "    def __init__(self, name, price, quantity): # Конструктор объекта класса\n",
    "        self.name = name\n",
    "        self.price = price\n",
    "        self.quantity = quantity\n",
    "        \n",
    "    def calculate_total_price(self):\n",
    "        return self.price * self.quantity\n",
    "\n",
    "item3 = Item('Headphones', 150)\n",
    "\n",
    "print(item3.quantity)"
   ]
  },
  {
   "cell_type": "code",
   "execution_count": 81,
   "id": "95a10a71",
   "metadata": {},
   "outputs": [
    {
     "name": "stdout",
     "output_type": "stream",
     "text": [
      "0\n"
     ]
    }
   ],
   "source": [
    "class Item: # Класс\n",
    "    def __init__(self, name, price, quantity = 0): # Конструктор объекта класса\n",
    "        self.name = name\n",
    "        self.price = price\n",
    "        self.quantity = quantity\n",
    "        \n",
    "    def calculate_total_price(self):\n",
    "        return self.price * self.quantity\n",
    "\n",
    "item3 = Item('Headphones', 150)\n",
    "\n",
    "print(item3.quantity)"
   ]
  },
  {
   "cell_type": "code",
   "execution_count": 82,
   "id": "e3ab9497",
   "metadata": {},
   "outputs": [
    {
     "ename": "AssertionError",
     "evalue": "price -500 is lower or equal to zero",
     "output_type": "error",
     "traceback": [
      "\u001b[1;31m---------------------------------------------------------------------------\u001b[0m",
      "\u001b[1;31mAssertionError\u001b[0m                            Traceback (most recent call last)",
      "\u001b[1;32m~\\AppData\\Local\\Temp/ipykernel_11328/254075534.py\u001b[0m in \u001b[0;36m<module>\u001b[1;34m\u001b[0m\n\u001b[0;32m     11\u001b[0m         \u001b[1;32mreturn\u001b[0m \u001b[0mself\u001b[0m\u001b[1;33m.\u001b[0m\u001b[0mprice\u001b[0m \u001b[1;33m*\u001b[0m \u001b[0mself\u001b[0m\u001b[1;33m.\u001b[0m\u001b[0mquantity\u001b[0m\u001b[1;33m\u001b[0m\u001b[1;33m\u001b[0m\u001b[0m\n\u001b[0;32m     12\u001b[0m \u001b[1;33m\u001b[0m\u001b[0m\n\u001b[1;32m---> 13\u001b[1;33m \u001b[0mitem1\u001b[0m \u001b[1;33m=\u001b[0m \u001b[0mItem\u001b[0m\u001b[1;33m(\u001b[0m\u001b[1;34m'Phone'\u001b[0m\u001b[1;33m,\u001b[0m \u001b[1;33m-\u001b[0m\u001b[1;36m500\u001b[0m\u001b[1;33m,\u001b[0m \u001b[1;36m5\u001b[0m\u001b[1;33m)\u001b[0m\u001b[1;33m\u001b[0m\u001b[1;33m\u001b[0m\u001b[0m\n\u001b[0m",
      "\u001b[1;32m~\\AppData\\Local\\Temp/ipykernel_11328/254075534.py\u001b[0m in \u001b[0;36m__init__\u001b[1;34m(self, name, price, quantity)\u001b[0m\n\u001b[0;32m      1\u001b[0m \u001b[1;32mclass\u001b[0m \u001b[0mItem\u001b[0m\u001b[1;33m:\u001b[0m \u001b[1;31m# Класс\u001b[0m\u001b[1;33m\u001b[0m\u001b[1;33m\u001b[0m\u001b[0m\n\u001b[0;32m      2\u001b[0m     \u001b[1;32mdef\u001b[0m \u001b[0m__init__\u001b[0m\u001b[1;33m(\u001b[0m\u001b[0mself\u001b[0m\u001b[1;33m,\u001b[0m \u001b[0mname\u001b[0m\u001b[1;33m,\u001b[0m \u001b[0mprice\u001b[0m\u001b[1;33m,\u001b[0m \u001b[0mquantity\u001b[0m \u001b[1;33m=\u001b[0m \u001b[1;36m0\u001b[0m\u001b[1;33m)\u001b[0m\u001b[1;33m:\u001b[0m \u001b[1;31m# Конструктор объекта класса\u001b[0m\u001b[1;33m\u001b[0m\u001b[1;33m\u001b[0m\u001b[0m\n\u001b[1;32m----> 3\u001b[1;33m         \u001b[1;32massert\u001b[0m \u001b[0mprice\u001b[0m \u001b[1;33m>=\u001b[0m \u001b[1;36m0\u001b[0m\u001b[1;33m,\u001b[0m \u001b[1;34mf'price {price} is lower or equal to zero'\u001b[0m\u001b[1;33m\u001b[0m\u001b[1;33m\u001b[0m\u001b[0m\n\u001b[0m\u001b[0;32m      4\u001b[0m         \u001b[1;32massert\u001b[0m \u001b[0mquantity\u001b[0m \u001b[1;33m>=\u001b[0m \u001b[1;36m0\u001b[0m\u001b[1;33m,\u001b[0m \u001b[1;34mf'quantity {quantity} is lower or equal to zero'\u001b[0m\u001b[1;33m\u001b[0m\u001b[1;33m\u001b[0m\u001b[0m\n\u001b[0;32m      5\u001b[0m \u001b[1;33m\u001b[0m\u001b[0m\n",
      "\u001b[1;31mAssertionError\u001b[0m: price -500 is lower or equal to zero"
     ]
    }
   ],
   "source": [
    "class Item: # Класс\n",
    "    def __init__(self, name, price, quantity = 0): # Конструктор объекта класса\n",
    "        assert price >= 0, f'price {price} is lower or equal to zero'\n",
    "        assert quantity >= 0, f'quantity {quantity} is lower or equal to zero'\n",
    "        \n",
    "        self.name = name\n",
    "        self.price = price\n",
    "        self.quantity = quantity\n",
    "        \n",
    "    def calculate_total_price(self):\n",
    "        return self.price * self.quantity\n",
    "\n",
    "item1 = Item('Phone', -500, 5)"
   ]
  },
  {
   "cell_type": "code",
   "execution_count": 83,
   "id": "c4d259c4",
   "metadata": {},
   "outputs": [
    {
     "ename": "AssertionError",
     "evalue": "quantity -5 is lower or equal to zero",
     "output_type": "error",
     "traceback": [
      "\u001b[1;31m---------------------------------------------------------------------------\u001b[0m",
      "\u001b[1;31mAssertionError\u001b[0m                            Traceback (most recent call last)",
      "\u001b[1;32m~\\AppData\\Local\\Temp/ipykernel_11328/3555902778.py\u001b[0m in \u001b[0;36m<module>\u001b[1;34m\u001b[0m\n\u001b[0;32m     11\u001b[0m         \u001b[1;32mreturn\u001b[0m \u001b[0mself\u001b[0m\u001b[1;33m.\u001b[0m\u001b[0mprice\u001b[0m \u001b[1;33m*\u001b[0m \u001b[0mself\u001b[0m\u001b[1;33m.\u001b[0m\u001b[0mquantity\u001b[0m\u001b[1;33m\u001b[0m\u001b[1;33m\u001b[0m\u001b[0m\n\u001b[0;32m     12\u001b[0m \u001b[1;33m\u001b[0m\u001b[0m\n\u001b[1;32m---> 13\u001b[1;33m \u001b[0mitem1\u001b[0m \u001b[1;33m=\u001b[0m \u001b[0mItem\u001b[0m\u001b[1;33m(\u001b[0m\u001b[1;34m'Phone'\u001b[0m\u001b[1;33m,\u001b[0m \u001b[1;36m500\u001b[0m\u001b[1;33m,\u001b[0m \u001b[1;33m-\u001b[0m\u001b[1;36m5\u001b[0m\u001b[1;33m)\u001b[0m\u001b[1;33m\u001b[0m\u001b[1;33m\u001b[0m\u001b[0m\n\u001b[0m",
      "\u001b[1;32m~\\AppData\\Local\\Temp/ipykernel_11328/3555902778.py\u001b[0m in \u001b[0;36m__init__\u001b[1;34m(self, name, price, quantity)\u001b[0m\n\u001b[0;32m      2\u001b[0m     \u001b[1;32mdef\u001b[0m \u001b[0m__init__\u001b[0m\u001b[1;33m(\u001b[0m\u001b[0mself\u001b[0m\u001b[1;33m,\u001b[0m \u001b[0mname\u001b[0m\u001b[1;33m,\u001b[0m \u001b[0mprice\u001b[0m\u001b[1;33m,\u001b[0m \u001b[0mquantity\u001b[0m \u001b[1;33m=\u001b[0m \u001b[1;36m0\u001b[0m\u001b[1;33m)\u001b[0m\u001b[1;33m:\u001b[0m \u001b[1;31m# Конструктор объекта класса\u001b[0m\u001b[1;33m\u001b[0m\u001b[1;33m\u001b[0m\u001b[0m\n\u001b[0;32m      3\u001b[0m         \u001b[1;32massert\u001b[0m \u001b[0mprice\u001b[0m \u001b[1;33m>=\u001b[0m \u001b[1;36m0\u001b[0m\u001b[1;33m,\u001b[0m \u001b[1;34mf'price {price} is lower or equal to zero'\u001b[0m\u001b[1;33m\u001b[0m\u001b[1;33m\u001b[0m\u001b[0m\n\u001b[1;32m----> 4\u001b[1;33m         \u001b[1;32massert\u001b[0m \u001b[0mquantity\u001b[0m \u001b[1;33m>=\u001b[0m \u001b[1;36m0\u001b[0m\u001b[1;33m,\u001b[0m \u001b[1;34mf'quantity {quantity} is lower or equal to zero'\u001b[0m\u001b[1;33m\u001b[0m\u001b[1;33m\u001b[0m\u001b[0m\n\u001b[0m\u001b[0;32m      5\u001b[0m \u001b[1;33m\u001b[0m\u001b[0m\n\u001b[0;32m      6\u001b[0m         \u001b[0mself\u001b[0m\u001b[1;33m.\u001b[0m\u001b[0mname\u001b[0m \u001b[1;33m=\u001b[0m \u001b[0mname\u001b[0m\u001b[1;33m\u001b[0m\u001b[1;33m\u001b[0m\u001b[0m\n",
      "\u001b[1;31mAssertionError\u001b[0m: quantity -5 is lower or equal to zero"
     ]
    }
   ],
   "source": [
    "class Item: # Класс\n",
    "    def __init__(self, name, price, quantity = 0): # Конструктор объекта класса\n",
    "        assert price >= 0, f'price {price} is lower or equal to zero'\n",
    "        assert quantity >= 0, f'quantity {quantity} is lower or equal to zero'\n",
    "        \n",
    "        self.name = name\n",
    "        self.price = price\n",
    "        self.quantity = quantity\n",
    "        \n",
    "    def calculate_total_price(self):\n",
    "        return self.price * self.quantity\n",
    "\n",
    "item1 = Item('Phone', 500, -5)"
   ]
  },
  {
   "cell_type": "code",
   "execution_count": 84,
   "id": "7a26287f",
   "metadata": {},
   "outputs": [
    {
     "name": "stdout",
     "output_type": "stream",
     "text": [
      "500\n"
     ]
    }
   ],
   "source": [
    "class Item: # Класс\n",
    "    def __init__(self, name, price, quantity = 0): # Конструктор объекта класса\n",
    "        assert price >= 0, f'price {price} is lower or equal to zero'\n",
    "        assert quantity >= 0, f'quantity {quantity} is lower or equal to zero'\n",
    "        \n",
    "        self.name = name\n",
    "        self.price = price\n",
    "        self.quantity = quantity\n",
    "        \n",
    "    def calculate_total_price(self):\n",
    "        return self.price * self.quantity\n",
    "\n",
    "item1 = Item('Phone', 500, 5)\n",
    "\n",
    "print(item1.price)"
   ]
  },
  {
   "cell_type": "code",
   "execution_count": 93,
   "id": "356fc283",
   "metadata": {},
   "outputs": [
    {
     "name": "stdout",
     "output_type": "stream",
     "text": [
      "500\n"
     ]
    }
   ],
   "source": [
    "class Item: # Класс\n",
    "    def __init__(self, name: str, price: int, quantity = 0): # Конструктор объекта класса\n",
    "        self.name = name\n",
    "        self.price = price\n",
    "        self.quantity = quantity\n",
    "        \n",
    "    def calculate_total_price(self):\n",
    "        return self.price * self.quantity\n",
    "\n",
    "item1 = Item('Phone', '500', 5)\n",
    "\n",
    "print(item1.price)"
   ]
  },
  {
   "cell_type": "code",
   "execution_count": 98,
   "id": "353faeba",
   "metadata": {},
   "outputs": [
    {
     "ename": "NameError",
     "evalue": "name 'pay_rate' is not defined",
     "output_type": "error",
     "traceback": [
      "\u001b[1;31m---------------------------------------------------------------------------\u001b[0m",
      "\u001b[1;31mNameError\u001b[0m                                 Traceback (most recent call last)",
      "\u001b[1;32m~\\AppData\\Local\\Temp/ipykernel_11328/3219700957.py\u001b[0m in \u001b[0;36m<module>\u001b[1;34m\u001b[0m\n\u001b[0;32m     18\u001b[0m \u001b[0mitem1\u001b[0m \u001b[1;33m=\u001b[0m \u001b[0mItem\u001b[0m\u001b[1;33m(\u001b[0m\u001b[1;34m'Phone'\u001b[0m\u001b[1;33m,\u001b[0m \u001b[1;36m500\u001b[0m\u001b[1;33m,\u001b[0m \u001b[1;36m5\u001b[0m\u001b[1;33m)\u001b[0m\u001b[1;33m\u001b[0m\u001b[1;33m\u001b[0m\u001b[0m\n\u001b[0;32m     19\u001b[0m \u001b[1;33m\u001b[0m\u001b[0m\n\u001b[1;32m---> 20\u001b[1;33m \u001b[0mprint\u001b[0m\u001b[1;33m(\u001b[0m\u001b[0mitem1\u001b[0m\u001b[1;33m.\u001b[0m\u001b[0mapply_discount\u001b[0m\u001b[1;33m(\u001b[0m\u001b[1;33m)\u001b[0m\u001b[1;33m)\u001b[0m\u001b[1;33m\u001b[0m\u001b[1;33m\u001b[0m\u001b[0m\n\u001b[0m",
      "\u001b[1;32m~\\AppData\\Local\\Temp/ipykernel_11328/3219700957.py\u001b[0m in \u001b[0;36mapply_discount\u001b[1;34m(self)\u001b[0m\n\u001b[0;32m     14\u001b[0m \u001b[1;33m\u001b[0m\u001b[0m\n\u001b[0;32m     15\u001b[0m     \u001b[1;32mdef\u001b[0m \u001b[0mapply_discount\u001b[0m\u001b[1;33m(\u001b[0m\u001b[0mself\u001b[0m\u001b[1;33m)\u001b[0m\u001b[1;33m:\u001b[0m\u001b[1;33m\u001b[0m\u001b[1;33m\u001b[0m\u001b[0m\n\u001b[1;32m---> 16\u001b[1;33m         \u001b[1;32mreturn\u001b[0m \u001b[0mself\u001b[0m\u001b[1;33m.\u001b[0m\u001b[0mprice\u001b[0m \u001b[1;33m*\u001b[0m \u001b[0mpay_rate\u001b[0m\u001b[1;33m\u001b[0m\u001b[1;33m\u001b[0m\u001b[0m\n\u001b[0m\u001b[0;32m     17\u001b[0m \u001b[1;33m\u001b[0m\u001b[0m\n\u001b[0;32m     18\u001b[0m \u001b[0mitem1\u001b[0m \u001b[1;33m=\u001b[0m \u001b[0mItem\u001b[0m\u001b[1;33m(\u001b[0m\u001b[1;34m'Phone'\u001b[0m\u001b[1;33m,\u001b[0m \u001b[1;36m500\u001b[0m\u001b[1;33m,\u001b[0m \u001b[1;36m5\u001b[0m\u001b[1;33m)\u001b[0m\u001b[1;33m\u001b[0m\u001b[1;33m\u001b[0m\u001b[0m\n",
      "\u001b[1;31mNameError\u001b[0m: name 'pay_rate' is not defined"
     ]
    }
   ],
   "source": [
    "class Item: # Класс\n",
    "    pay_rate = 0.8 # Атрибут класса\n",
    "    \n",
    "    def __init__(self, name, price, quantity = 0): # Конструктор объекта класса\n",
    "        assert price >= 0, f'price {price} is lower or equal to zero'\n",
    "        assert quantity >= 0, f'quantity {quantity} is lower or equal to zero'\n",
    "        \n",
    "        self.name = name # Атрибут объекта\n",
    "        self.price = price # Атрибут объекта\n",
    "        self.quantity = quantity # Атрибут объекта\n",
    "        \n",
    "    def calculate_total_price(self):\n",
    "        return self.price * self.quantity\n",
    "    \n",
    "    def apply_discount(self):\n",
    "        return self.price * pay_rate\n",
    "\n",
    "item1 = Item('Phone', 500, 5)\n",
    "\n",
    "print(item1.apply_discount())"
   ]
  },
  {
   "cell_type": "code",
   "execution_count": 100,
   "id": "9b40983b",
   "metadata": {},
   "outputs": [
    {
     "name": "stdout",
     "output_type": "stream",
     "text": [
      "[<__main__.Item object at 0x0000017E740DC310>, <__main__.Item object at 0x0000017E740DC370>, <__main__.Item object at 0x0000017E740DC340>]\n"
     ]
    }
   ],
   "source": [
    "class Item: # Класс\n",
    "    all = []\n",
    "    \n",
    "    def __init__(self, name, price, quantity = 0): # Конструктор объекта класса\n",
    "        assert price >= 0, f'price {price} is lower or equal to zero'\n",
    "        assert quantity >= 0, f'quantity {quantity} is lower or equal to zero'\n",
    "        \n",
    "        self.name = name # Атрибут объекта\n",
    "        self.price = price # Атрибут объекта\n",
    "        self.quantity = quantity # Атрибут объекта\n",
    "        Item.all.append(self)\n",
    "        \n",
    "    def calculate_total_price(self):\n",
    "        return self.price * self.quantity\n",
    "    \n",
    "    def apply_discount(self):\n",
    "        return self.price * pay_rate\n",
    "\n",
    "item1 = Item('Phone', 500, 5)\n",
    "item2 = Item('Laptop', 1000, 3)\n",
    "item3 = Item('Headphones', 150)\n",
    "\n",
    "print(Item.all)"
   ]
  },
  {
   "cell_type": "code",
   "execution_count": null,
   "id": "91b0f5ce",
   "metadata": {},
   "outputs": [],
   "source": [
    "class Item: # Класс\n",
    "    all = []\n",
    "    \n",
    "    def __init__(self, name, price, quantity = 0): # Конструктор объекта класса\n",
    "        assert price >= 0, f'price {price} is lower or equal to zero'\n",
    "        assert quantity >= 0, f'quantity {quantity} is lower or equal to zero'\n",
    "        \n",
    "        self.name = name # Атрибут объекта\n",
    "        self.price = price # Атрибут объекта\n",
    "        self.quantity = quantity # Атрибут объекта\n",
    "        Item.all.append(self)\n",
    "        \n",
    "    def calculate_total_price(self):\n",
    "        return self.price * self.quantity\n",
    "    \n",
    "    def apply_discount(self):\n",
    "        return self.price * pay_rate\n",
    "\n",
    "item1 = Item('Phone', 500, 5)\n",
    "item2 = Item('Laptop', 1000, 3)\n",
    "item3 = Item('Headphones', 150)\n",
    "\n",
    "for item in Item.all:\n",
    "    print(item)"
   ]
  }
 ],
 "metadata": {
  "kernelspec": {
   "display_name": "Python 3 (ipykernel)",
   "language": "python",
   "name": "python3"
  },
  "language_info": {
   "codemirror_mode": {
    "name": "ipython",
    "version": 3
   },
   "file_extension": ".py",
   "mimetype": "text/x-python",
   "name": "python",
   "nbconvert_exporter": "python",
   "pygments_lexer": "ipython3",
   "version": "3.8.8"
  }
 },
 "nbformat": 4,
 "nbformat_minor": 5
}
